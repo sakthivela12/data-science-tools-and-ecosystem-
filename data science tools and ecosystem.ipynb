{
  "metadata": {
    "kernelspec": {
      "name": "python",
      "display_name": "Python (Pyodide)",
      "language": "python"
    },
    "language_info": {
      "codemirror_mode": {
        "name": "python",
        "version": 3
      },
      "file_extension": ".py",
      "mimetype": "text/x-python",
      "name": "python",
      "nbconvert_exporter": "python",
      "pygments_lexer": "ipython3",
      "version": "3.8"
    }
  },
  "nbformat_minor": 4,
  "nbformat": 4,
  "cells": [
    {
      "cell_type": "markdown",
      "source": "##title ",
      "metadata": {}
    },
    {
      "cell_type": "markdown",
      "source": "Data science tools and ecosystem ",
      "metadata": {}
    },
    {
      "cell_type": "markdown",
      "source": "##introduction",
      "metadata": {}
    },
    {
      "cell_type": "markdown",
      "source": "welcome to this notebook! in this note book, we will explore various concepts to data analysis using python. we'll cover topic such as data clearing,visualization and statistical analysis .let,s dive in!",
      "metadata": {}
    },
    {
      "cell_type": "markdown",
      "source": "##data science languages",
      "metadata": {}
    },
    {
      "cell_type": "markdown",
      "source": "python,R,SQL,julia,MATLAB,Scala,Java",
      "metadata": {}
    },
    {
      "cell_type": "markdown",
      "source": "##data science libraries",
      "metadata": {}
    },
    {
      "cell_type": "markdown",
      "source": "Numpy,Pandas,Matplotlib,Seaborn,Scikit-learn,Tensorflow,Pytorch,keras,NLTK,OpenCV",
      "metadata": {}
    },
    {
      "cell_type": "markdown",
      "source": "##data science tools",
      "metadata": {}
    },
    {
      "cell_type": "markdown",
      "source": "programing: python,R,julia",
      "metadata": {}
    },
    {
      "cell_type": "markdown",
      "source": "libraries: numpy,pandas,matplotlib,seaborn,scikit-learn,tensorflow,pytorch,kearas,nltk,opencv.",
      "metadata": {}
    },
    {
      "cell_type": "markdown",
      "source": "data storage: sql,mongodb,hadoop,spark.",
      "metadata": {}
    },
    {
      "cell_type": "markdown",
      "source": "visualization: tableau,plotly,bokeh,d3.js",
      "metadata": {}
    },
    {
      "cell_type": "markdown",
      "source": "IDEs: jupyter notebook,rstudio,pycharm,spyder",
      "metadata": {}
    },
    {
      "cell_type": "markdown",
      "source": "version contorl: git,github,gitlab,bitbucket",
      "metadata": {}
    },
    {
      "cell_type": "markdown",
      "source": "cloud platforms: aws,google colud platform,microsoft azure",
      "metadata": {}
    },
    {
      "cell_type": "markdown",
      "source": "##arithemetic expression examples",
      "metadata": {}
    },
    {
      "cell_type": "markdown",
      "source": "#adding two numbers",
      "metadata": {}
    },
    {
      "cell_type": "code",
      "source": "result=5+3",
      "metadata": {
        "trusted": true
      },
      "outputs": [],
      "execution_count": null
    },
    {
      "cell_type": "code",
      "source": "print(result)",
      "metadata": {
        "trusted": true
      },
      "outputs": [
        {
          "name": "stdout",
          "text": "8\n",
          "output_type": "stream"
        }
      ],
      "execution_count": 4
    },
    {
      "cell_type": "markdown",
      "source": "#subracting two numbers",
      "metadata": {}
    },
    {
      "cell_type": "code",
      "source": "result=18-4",
      "metadata": {
        "trusted": true
      },
      "outputs": [],
      "execution_count": null
    },
    {
      "cell_type": "code",
      "source": "print(result)",
      "metadata": {
        "trusted": true
      },
      "outputs": [
        {
          "name": "stdout",
          "text": "14\n",
          "output_type": "stream"
        }
      ],
      "execution_count": 15
    },
    {
      "cell_type": "markdown",
      "source": "#multiplication two numbers",
      "metadata": {}
    },
    {
      "cell_type": "code",
      "source": "result=7*2",
      "metadata": {
        "trusted": true
      },
      "outputs": [],
      "execution_count": null
    },
    {
      "cell_type": "code",
      "source": "print(result)",
      "metadata": {
        "trusted": true
      },
      "outputs": [
        {
          "name": "stdout",
          "text": "14\n",
          "output_type": "stream"
        }
      ],
      "execution_count": 16
    },
    {
      "cell_type": "markdown",
      "source": "#division two numbers",
      "metadata": {}
    },
    {
      "cell_type": "code",
      "source": "result=70/5",
      "metadata": {
        "trusted": true
      },
      "outputs": [],
      "execution_count": null
    },
    {
      "cell_type": "code",
      "source": "print(result)",
      "metadata": {
        "trusted": true
      },
      "outputs": [
        {
          "name": "stdout",
          "text": "14\n",
          "output_type": "stream"
        }
      ],
      "execution_count": 18
    },
    {
      "cell_type": "markdown",
      "source": "#multiplication",
      "metadata": {}
    },
    {
      "cell_type": "code",
      "source": "num1 = 5",
      "metadata": {
        "trusted": true
      },
      "outputs": [],
      "execution_count": null
    },
    {
      "cell_type": "code",
      "source": "num2 = 3",
      "metadata": {
        "trusted": true
      },
      "outputs": [],
      "execution_count": 31
    },
    {
      "cell_type": "code",
      "source": "result_multiplicatly=num1 * num2",
      "metadata": {
        "trusted": true
      },
      "outputs": [],
      "execution_count": null
    },
    {
      "cell_type": "code",
      "source": "print(\"multiplication result:\",result_miltiply)",
      "metadata": {
        "scrolled": true,
        "trusted": true
      },
      "outputs": [],
      "execution_count": null
    },
    {
      "cell_type": "markdown",
      "source": "#addtion",
      "metadata": {}
    },
    {
      "cell_type": "code",
      "source": "num3=10",
      "metadata": {
        "trusted": true
      },
      "outputs": [],
      "execution_count": null
    },
    {
      "cell_type": "code",
      "source": "num4=7",
      "metadata": {
        "trusted": true
      },
      "outputs": [],
      "execution_count": null
    },
    {
      "cell_type": "code",
      "source": "result_addtion=num3+num4",
      "metadata": {
        "trusted": true
      },
      "outputs": [],
      "execution_count": null
    },
    {
      "cell_type": "code",
      "source": "print(\"addition result:\",result_addtion)",
      "metadata": {
        "trusted": true
      },
      "outputs": [],
      "execution_count": null
    },
    {
      "cell_type": "markdown",
      "source": "#conversion from minutes to hours",
      "metadata": {}
    },
    {
      "cell_type": "code",
      "source": "minutes=120",
      "metadata": {
        "trusted": true
      },
      "outputs": [],
      "execution_count": null
    },
    {
      "cell_type": "code",
      "source": "hours=minutes/60",
      "metadata": {
        "trusted": true
      },
      "outputs": [],
      "execution_count": null
    },
    {
      "cell_type": "code",
      "source": "print(\"120 minutes is equal to hours\")",
      "metadata": {
        "trusted": true
      },
      "outputs": [
        {
          "name": "stdout",
          "text": "120 minutes is equal to hours\n",
          "output_type": "stream"
        }
      ],
      "execution_count": 24
    },
    {
      "cell_type": "markdown",
      "source": "##objectives",
      "metadata": {}
    },
    {
      "cell_type": "markdown",
      "source": "1.demonstrate basic arithmetic operations using python.",
      "metadata": {}
    },
    {
      "cell_type": "markdown",
      "source": "2.conver minuutes to hours to understandtime conversion.",
      "metadata": {}
    },
    {
      "cell_type": "markdown",
      "source": "3.explore the concept of variable and their usage in calculations.",
      "metadata": {}
    },
    {
      "cell_type": "markdown",
      "source": "4.showcase the simplicity and versatility of jupyter notebook for data analysis tasks.",
      "metadata": {}
    },
    {
      "cell_type": "markdown",
      "source": "5.proviade hands-0n examples for beginners to practice and understand python programing concepts.",
      "metadata": {}
    },
    {
      "cell_type": "markdown",
      "source": "6.encourage experimentation and exploration of additional functionalities beyond the provided examples.",
      "metadata": {}
    },
    {
      "cell_type": "markdown",
      "source": "##author",
      "metadata": {}
    },
    {
      "cell_type": "markdown",
      "source": "**[your name]**",
      "metadata": {}
    },
    {
      "cell_type": "markdown",
      "source": "[optional1: add addtional informatiom about the author ,such as afficiation or detials]",
      "metadata": {}
    },
    {
      "cell_type": "markdown",
      "source": "",
      "metadata": {}
    },
    {
      "cell_type": "markdown",
      "source": "",
      "metadata": {}
    },
    {
      "cell_type": "markdown",
      "source": "",
      "metadata": {}
    }
  ]
}